{
 "cells": [
  {
   "attachments": {},
   "cell_type": "markdown",
   "metadata": {},
   "source": [
    "# 기울기 소실(Gradient Vanishing)과 폭주(Exploding)를 막는 방법들"
   ]
  },
  {
   "attachments": {},
   "cell_type": "markdown",
   "metadata": {},
   "source": [
    "- ReLU와 ReLU의 변형들\n",
    "- 가중치 초기화(Weight initialization) ex. Xavier Initialization, He initialization\n",
    "- 배치 정규화(Batch Normalization)\n",
    "- 층 정규화(Layer Normalization)"
   ]
  }
 ],
 "metadata": {
  "language_info": {
   "name": "python"
  },
  "orig_nbformat": 4
 },
 "nbformat": 4,
 "nbformat_minor": 2
}
