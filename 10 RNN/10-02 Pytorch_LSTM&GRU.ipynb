{
 "cells": [
  {
   "attachments": {},
   "cell_type": "markdown",
   "metadata": {},
   "source": [
    "# Pytorch nn.LSTM() & nn.GRU()"
   ]
  },
  {
   "attachments": {},
   "cell_type": "markdown",
   "metadata": {},
   "source": [
    "RNN 셀과 똑같습니다.\n",
    "- nn.RNN(input_dim, hidden_size, batch_fisrt=True)\n",
    "- nn.LSTM(input_dim, hidden_size, batch_fisrt=True)  \n",
    "- nn.GRU(input_dim, hidden_size, batch_fisrt=True)  "
   ]
  }
 ],
 "metadata": {
  "kernelspec": {
   "display_name": "base",
   "language": "python",
   "name": "python3"
  },
  "language_info": {
   "codemirror_mode": {
    "name": "ipython",
    "version": 3
   },
   "file_extension": ".py",
   "mimetype": "text/x-python",
   "name": "python",
   "nbconvert_exporter": "python",
   "pygments_lexer": "ipython3",
   "version": "3.9.16"
  },
  "orig_nbformat": 4
 },
 "nbformat": 4,
 "nbformat_minor": 2
}
