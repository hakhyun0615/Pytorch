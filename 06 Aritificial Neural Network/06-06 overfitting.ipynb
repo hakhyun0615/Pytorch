{
 "cells": [
  {
   "attachments": {},
   "cell_type": "markdown",
   "metadata": {},
   "source": [
    "# 과적합(Overfitting)을 막는 방법들"
   ]
  },
  {
   "attachments": {},
   "cell_type": "markdown",
   "metadata": {},
   "source": [
    "- 데이터의 양을 늘리기\n",
    "- 모델의 복잡도 줄이기 ex. 선형 레이어(Linear) 줄이기\n",
    "- 가중치 규제(Regularization) 적용하기 ex. L1, L2\n",
    "- 드롭아웃(Dropout)"
   ]
  }
 ],
 "metadata": {
  "language_info": {
   "name": "python"
  },
  "orig_nbformat": 4
 },
 "nbformat": 4,
 "nbformat_minor": 2
}
