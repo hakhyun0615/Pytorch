{
 "cells": [
  {
   "attachments": {},
   "cell_type": "markdown",
   "metadata": {},
   "source": [
    "# 희소 표현(Sparse Representation)"
   ]
  },
  {
   "attachments": {},
   "cell_type": "markdown",
   "metadata": {},
   "source": [
    "희소 표현: 원-핫 인코딩과 같이 벡터/행렬의 값이 대부분 0으로 표현되는 방법"
   ]
  },
  {
   "attachments": {},
   "cell_type": "markdown",
   "metadata": {},
   "source": [
    "# 밀집 표현(Dense Representation)"
   ]
  },
  {
   "attachments": {},
   "cell_type": "markdown",
   "metadata": {},
   "source": [
    "밀집 표현: 사용자가 설정한 값으로 모든 단어의 벡터 표현의 차원을 맞추고 0과 1이 아닌 실수값을 가진다"
   ]
  },
  {
   "attachments": {},
   "cell_type": "markdown",
   "metadata": {},
   "source": [
    "# 워드 임베딩(Word Embedding)"
   ]
  },
  {
   "attachments": {},
   "cell_type": "markdown",
   "metadata": {},
   "source": [
    "워드 임베딩: 단어 -> 밀집 벡터/임베딩 벡터  \n",
    "\n",
    "워드 임베딩의 종류\n",
    "- LSA\n",
    "- Word2Vec\n",
    "- FastText\n",
    "- Glove"
   ]
  }
 ],
 "metadata": {
  "language_info": {
   "name": "python"
  },
  "orig_nbformat": 4
 },
 "nbformat": 4,
 "nbformat_minor": 2
}
