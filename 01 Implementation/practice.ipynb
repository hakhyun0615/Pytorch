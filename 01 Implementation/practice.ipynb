{
 "cells": [
  {
   "cell_type": "code",
   "execution_count": 10,
   "metadata": {},
   "outputs": [],
   "source": [
    "import numpy as np\n",
    "import torch\n",
    "\n",
    "# y = x*2 + 10\n",
    "data_x = np.random.randint(1,20,20)\n",
    "data_y = np.array([1*np.random.randn() + x*2 + 10 for x in data_x])"
   ]
  },
  {
   "cell_type": "code",
   "execution_count": 11,
   "metadata": {},
   "outputs": [
    {
     "data": {
      "text/plain": [
       "array([ 9,  7, 14, 12,  4, 14, 18,  6, 15,  6,  5,  8, 14,  4, 14,  7, 12,\n",
       "       19,  4,  9])"
      ]
     },
     "execution_count": 11,
     "metadata": {},
     "output_type": "execute_result"
    }
   ],
   "source": [
    "data_x"
   ]
  },
  {
   "cell_type": "code",
   "execution_count": 12,
   "metadata": {},
   "outputs": [],
   "source": [
    "data_x = torch.FloatTensor(data_x).unsqueeze(dim=1)\n",
    "data_y = torch.FloatTensor(data_y).unsqueeze(dim=1)"
   ]
  },
  {
   "cell_type": "code",
   "execution_count": 13,
   "metadata": {},
   "outputs": [
    {
     "data": {
      "text/plain": [
       "tensor([[ 9.],\n",
       "        [ 7.],\n",
       "        [14.],\n",
       "        [12.],\n",
       "        [ 4.],\n",
       "        [14.],\n",
       "        [18.],\n",
       "        [ 6.],\n",
       "        [15.],\n",
       "        [ 6.],\n",
       "        [ 5.],\n",
       "        [ 8.],\n",
       "        [14.],\n",
       "        [ 4.],\n",
       "        [14.],\n",
       "        [ 7.],\n",
       "        [12.],\n",
       "        [19.],\n",
       "        [ 4.],\n",
       "        [ 9.]])"
      ]
     },
     "execution_count": 13,
     "metadata": {},
     "output_type": "execute_result"
    }
   ],
   "source": [
    "data_x"
   ]
  },
  {
   "cell_type": "code",
   "execution_count": null,
   "metadata": {},
   "outputs": [],
   "source": []
  }
 ],
 "metadata": {
  "kernelspec": {
   "display_name": "base",
   "language": "python",
   "name": "python3"
  },
  "language_info": {
   "codemirror_mode": {
    "name": "ipython",
    "version": 3
   },
   "file_extension": ".py",
   "mimetype": "text/x-python",
   "name": "python",
   "nbconvert_exporter": "python",
   "pygments_lexer": "ipython3",
   "version": "3.9.16"
  },
  "orig_nbformat": 4
 },
 "nbformat": 4,
 "nbformat_minor": 2
}
